{
 "cells": [
  {
   "cell_type": "code",
   "execution_count": 14,
   "metadata": {},
   "outputs": [
    {
     "data": {
      "image/png": "[encoded data removed]",
      "text/plain": [
       "<Figure size 432x288 with 1 Axes>"
      ]
     },
     "metadata": {},
     "output_type": "display_data"
    }
   ],
   "source": [
    "\n",
    "from graph_converter import visualize_graph\n",
    "from graphDatasetCreater import csv2graphDataset\n",
    "import csv\n",
    "import os\n",
    "import matplotlib.pyplot as plt\n",
    "experiment_date ='sample_data'\n",
    "base_dir = os.path.abspath('')+'/experiment_data/' + experiment_date\n",
    "csv_path_list = {0:base_dir+'/position_data/test.csv'}\n",
    "datasets,obj_name_set = csv2graphDataset(csv_path_list,include_names=True)\n",
    "save_dir = base_dir +'/images/'\n",
    "\n",
    "for i, (graph, names) in enumerate(zip(datasets,obj_name_set)):\n",
    "    plt.close()\n",
    "    visualize_graph(graph, node_labels=names, save_graph_name=save_dir+str(i)+'_graph.png', show_graph=False)\n"
   ]
  },
  {
   "cell_type": "code",
   "execution_count": 4,
   "metadata": {},
   "outputs": [
    {
     "data": {
      "text/plain": [
       "'/Users/NaoYamada/Desktop/python_ws/algorithm/GraphNeuralNetwrok/master_project/script'"
      ]
     },
     "execution_count": 4,
     "metadata": {},
     "output_type": "execute_result"
    }
   ],
   "source": [
    "os.path.abspath('')"
   ]
  },
  {
   "cell_type": "code",
   "execution_count": null,
   "metadata": {},
   "outputs": [],
   "source": []
  }
 ],
 "metadata": {
  "interpreter": {
   "hash": "4e207697669739085ec77ef71f628e7db516108c4162db885c9f0580f4b14ffb"
  },
  "kernelspec": {
   "display_name": "Python 3.6.5 64-bit ('3.6.5': pyenv)",
   "name": "python3"
  },
  "language_info": {
   "codemirror_mode": {
    "name": "ipython",
    "version": 3
   },
   "file_extension": ".py",
   "mimetype": "text/x-python",
   "name": "python",
   "nbconvert_exporter": "python",
   "pygments_lexer": "ipython3",
   "version": "3.6.5"
  },
  "orig_nbformat": 4
 },
 "nbformat": 4,
 "nbformat_minor": 2
}
